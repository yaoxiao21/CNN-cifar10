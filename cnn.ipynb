{
 "cells": [
  {
   "cell_type": "markdown",
   "metadata": {},
   "source": [
    "# Home 3: Build a CNN for image recognition.\n",
    "\n",
    "### Name: Yao Xiao\n"
   ]
  },
  {
   "cell_type": "markdown",
   "metadata": {},
   "source": [
    "## 0. You will do the following:\n",
    "\n",
    "1. Read, complete, and run my code.\n",
    "\n",
    "2. **Make substantial improvements** to maximize the accurcy.\n",
    "    \n",
    "3. Convert the .IPYNB file to .HTML file.\n",
    "\n",
    "    * The HTML file must contain the code and the output after execution.\n",
    "    \n",
    "4. Upload this .HTML file to your Github repo.\n",
    "\n",
    "4. Submit the link to this .HTML file to Canvas.\n",
    "\n",
    "    * Example: https://github.com/wangshusen/CS583A-2019Spring/blob/master/homework/HM3/cnn.html\n"
   ]
  },
  {
   "cell_type": "markdown",
   "metadata": {},
   "source": [
    "## 1. Data preparation"
   ]
  },
  {
   "cell_type": "markdown",
   "metadata": {},
   "source": [
    "### 1.1. Load data\n"
   ]
  },
  {
   "cell_type": "code",
   "execution_count": 1,
   "metadata": {},
   "outputs": [
    {
     "name": "stderr",
     "output_type": "stream",
     "text": [
      "/anaconda3/lib/python3.6/site-packages/h5py/__init__.py:36: FutureWarning: Conversion of the second argument of issubdtype from `float` to `np.floating` is deprecated. In future, it will be treated as `np.float64 == np.dtype(float).type`.\n",
      "  from ._conv import register_converters as _register_converters\n",
      "Using TensorFlow backend.\n"
     ]
    },
    {
     "name": "stdout",
     "output_type": "stream",
     "text": [
      "shape of x_train: (50000, 32, 32, 3)\n",
      "shape of y_train: (50000, 1)\n",
      "shape of x_test: (10000, 32, 32, 3)\n",
      "shape of y_test: (10000, 1)\n",
      "number of classes: 10\n"
     ]
    }
   ],
   "source": [
    "from keras.datasets import cifar10\n",
    "import numpy as np\n",
    "\n",
    "(x_train, y_train), (x_test, y_test) = cifar10.load_data()\n",
    "\n",
    "print('shape of x_train: ' + str(x_train.shape))\n",
    "print('shape of y_train: ' + str(y_train.shape))\n",
    "print('shape of x_test: ' + str(x_test.shape))\n",
    "print('shape of y_test: ' + str(y_test.shape))\n",
    "print('number of classes: ' + str(np.max(y_train) - np.min(y_train) + 1))"
   ]
  },
  {
   "cell_type": "markdown",
   "metadata": {},
   "source": [
    "### 1.2. One-hot encode the labels\n",
    "\n",
    "In the input, a label is a scalar in $\\{0, 1, \\cdots , 9\\}$. One-hot encode transform such a scalar to a $10$-dim vector. E.g., a scalar ```y_train[j]=3``` is transformed to the vector ```y_train_vec[j]=[0, 0, 0, 1, 0, 0, 0, 0, 0, 0]```.\n",
    "\n",
    "1. Define a function ```to_one_hot``` that transforms an $n\\times 1$ array to a $n\\times 10$ matrix.\n",
    "\n",
    "2. Apply the function to ```y_train``` and ```y_test```."
   ]
  },
  {
   "cell_type": "code",
   "execution_count": 2,
   "metadata": {},
   "outputs": [
    {
     "name": "stdout",
     "output_type": "stream",
     "text": [
      "Shape of y_train_vec: (50000, 10)\n",
      "Shape of y_test_vec: (10000, 10)\n",
      "[6]\n",
      "[0. 0. 0. 0. 0. 0. 1. 0. 0. 0.]\n"
     ]
    }
   ],
   "source": [
    "def to_one_hot(y, num_class=10):\n",
    "    result = np.zeros((len(y), num_class))\n",
    "    for i,label in enumerate(y):\n",
    "        result[i,label]=1\n",
    "    return result\n",
    "y_train_vec = to_one_hot(y_train)\n",
    "y_test_vec = to_one_hot(y_test)\n",
    "\n",
    "print('Shape of y_train_vec: ' + str(y_train_vec.shape))\n",
    "print('Shape of y_test_vec: ' + str(y_test_vec.shape))\n",
    "\n",
    "print(y_train[0])\n",
    "print(y_train_vec[0])"
   ]
  },
  {
   "cell_type": "markdown",
   "metadata": {},
   "source": [
    "#### Remark: the outputs should be\n",
    "* Shape of y_train_vec: (50000, 10)\n",
    "* Shape of y_test_vec: (10000, 10)\n",
    "* [6]\n",
    "* [0. 0. 0. 0. 0. 0. 1. 0. 0. 0.]"
   ]
  },
  {
   "cell_type": "markdown",
   "metadata": {},
   "source": [
    "### 1.3. Randomly partition the training set to training and validation sets\n",
    "\n",
    "Randomly partition the 50K training samples to 2 sets:\n",
    "* a training set containing 40K samples\n",
    "* a validation set containing 10K samples\n"
   ]
  },
  {
   "cell_type": "code",
   "execution_count": 3,
   "metadata": {},
   "outputs": [
    {
     "name": "stdout",
     "output_type": "stream",
     "text": [
      "Shape of x_tr: (40000, 32, 32, 3)\n",
      "Shape of y_tr: (40000, 10)\n",
      "Shape of x_val: (10000, 32, 32, 3)\n",
      "Shape of y_val: (10000, 10)\n"
     ]
    }
   ],
   "source": [
    "rand_indices = np.random.permutation(50000)\n",
    "train_indices = rand_indices[0:40000]\n",
    "valid_indices = rand_indices[40000:50000]\n",
    "\n",
    "x_val = x_train[valid_indices, :]\n",
    "y_val = y_train_vec[valid_indices, :]\n",
    "\n",
    "x_tr = x_train[train_indices, :]\n",
    "y_tr = y_train_vec[train_indices, :]\n",
    "\n",
    "print('Shape of x_tr: ' + str(x_tr.shape))\n",
    "print('Shape of y_tr: ' + str(y_tr.shape))\n",
    "print('Shape of x_val: ' + str(x_val.shape))\n",
    "print('Shape of y_val: ' + str(y_val.shape))"
   ]
  },
  {
   "cell_type": "markdown",
   "metadata": {},
   "source": [
    "## 2. Build a CNN and tune its hyper-parameters\n",
    "\n",
    "1. Build a convolutional neural network model\n",
    "2. Use the validation data to tune the hyper-parameters (e.g., network structure, and optimization algorithm)\n",
    "    * Do NOT use test data for hyper-parameter tuning!!!\n",
    "3. Try to achieve a validation accuracy as high as possible."
   ]
  },
  {
   "cell_type": "markdown",
   "metadata": {},
   "source": [
    "### Remark: \n",
    "\n",
    "The following CNN is just an example. You are supposed to make **substantial improvements** such as:\n",
    "* Add more layers.\n",
    "* Use regularizations, e.g., dropout.\n",
    "* Use batch normalization."
   ]
  },
  {
   "cell_type": "code",
   "execution_count": 4,
   "metadata": {},
   "outputs": [
    {
     "name": "stdout",
     "output_type": "stream",
     "text": [
      "_________________________________________________________________\n",
      "Layer (type)                 Output Shape              Param #   \n",
      "=================================================================\n",
      "conv2d_1 (Conv2D)            (None, 32, 32, 32)        896       \n",
      "_________________________________________________________________\n",
      "max_pooling2d_1 (MaxPooling2 (None, 16, 16, 32)        0         \n",
      "_________________________________________________________________\n",
      "conv2d_2 (Conv2D)            (None, 16, 16, 64)        18496     \n",
      "_________________________________________________________________\n",
      "max_pooling2d_2 (MaxPooling2 (None, 8, 8, 64)          0         \n",
      "_________________________________________________________________\n",
      "flatten_1 (Flatten)          (None, 4096)              0         \n",
      "_________________________________________________________________\n",
      "dense_1 (Dense)              (None, 128)               524416    \n",
      "_________________________________________________________________\n",
      "dense_2 (Dense)              (None, 10)                1290      \n",
      "=================================================================\n",
      "Total params: 545,098\n",
      "Trainable params: 545,098\n",
      "Non-trainable params: 0\n",
      "_________________________________________________________________\n"
     ]
    }
   ],
   "source": [
    "from keras.layers import Conv2D, MaxPooling2D, Flatten, Dense\n",
    "from keras.models import Sequential\n",
    "\n",
    "model = Sequential()\n",
    "model.add(Conv2D(32, (3, 3), activation='relu', padding='same', input_shape=(32, 32, 3)))\n",
    "model.add(MaxPooling2D((2, 2)))\n",
    "model.add(Conv2D(64, (3, 3), activation='relu', padding='same'))\n",
    "model.add(MaxPooling2D((2, 2)))\n",
    "model.add(Flatten())\n",
    "model.add(Dense(128, activation='relu'))\n",
    "model.add(Dense(10, activation='softmax'))\n",
    "\n",
    "model.summary()"
   ]
  },
  {
   "cell_type": "code",
   "execution_count": 5,
   "metadata": {},
   "outputs": [],
   "source": [
    "from keras import optimizers\n",
    "\n",
    "learning_rate = 1E-5 # to be tuned!\n",
    "\n",
    "model.compile(loss='categorical_crossentropy',\n",
    "              optimizer=optimizers.RMSprop(lr=learning_rate),\n",
    "              metrics=['acc'])"
   ]
  },
  {
   "cell_type": "code",
   "execution_count": 6,
   "metadata": {},
   "outputs": [
    {
     "name": "stdout",
     "output_type": "stream",
     "text": [
      "Train on 40000 samples, validate on 10000 samples\n",
      "Epoch 1/10\n",
      "40000/40000 [==============================] - 36s 905us/step - loss: 8.2007 - acc: 0.2073 - val_loss: 6.0026 - val_acc: 0.2574\n",
      "Epoch 2/10\n",
      "40000/40000 [==============================] - 39s 964us/step - loss: 4.9410 - acc: 0.2873 - val_loss: 3.8768 - val_acc: 0.3012\n",
      "Epoch 3/10\n",
      "40000/40000 [==============================] - 39s 970us/step - loss: 3.2000 - acc: 0.3265 - val_loss: 2.9092 - val_acc: 0.3352\n",
      "Epoch 4/10\n",
      "40000/40000 [==============================] - 39s 972us/step - loss: 2.5738 - acc: 0.3583 - val_loss: 2.5102 - val_acc: 0.3596\n",
      "Epoch 5/10\n",
      "40000/40000 [==============================] - 39s 975us/step - loss: 2.2260 - acc: 0.3864 - val_loss: 2.2198 - val_acc: 0.3835\n",
      "Epoch 6/10\n",
      "40000/40000 [==============================] - 39s 982us/step - loss: 1.9925 - acc: 0.4120 - val_loss: 2.0284 - val_acc: 0.4045\n",
      "Epoch 7/10\n",
      "40000/40000 [==============================] - 39s 986us/step - loss: 1.8287 - acc: 0.4350 - val_loss: 1.9118 - val_acc: 0.4209\n",
      "Epoch 8/10\n",
      "40000/40000 [==============================] - 40s 988us/step - loss: 1.7027 - acc: 0.4558 - val_loss: 1.8244 - val_acc: 0.4326\n",
      "Epoch 9/10\n",
      "40000/40000 [==============================] - 40s 990us/step - loss: 1.6063 - acc: 0.4773 - val_loss: 1.7604 - val_acc: 0.4481\n",
      "Epoch 10/10\n",
      "40000/40000 [==============================] - 40s 993us/step - loss: 1.5326 - acc: 0.4964 - val_loss: 1.7101 - val_acc: 0.4630\n"
     ]
    }
   ],
   "source": [
    "history = model.fit(x_tr, y_tr, batch_size=32, epochs=10, validation_data=(x_val, y_val))"
   ]
  },
  {
   "cell_type": "code",
   "execution_count": 7,
   "metadata": {},
   "outputs": [
    {
     "data": {
      "image/png": "[encoded data removed]",
      "text/plain": [
       "<Figure size 432x288 with 1 Axes>"
      ]
     },
     "metadata": {},
     "output_type": "display_data"
    }
   ],
   "source": [
    "import matplotlib.pyplot as plt\n",
    "%matplotlib inline\n",
    "\n",
    "acc = history.history['acc']\n",
    "val_acc = history.history['val_acc']\n",
    "\n",
    "epochs = range(len(acc))\n",
    "\n",
    "plt.plot(epochs, acc, 'bo', label='Training acc')\n",
    "plt.plot(epochs, val_acc, 'r', label='Validation acc')\n",
    "plt.xlabel('Epochs')\n",
    "plt.ylabel('Accuracy')\n",
    "plt.legend()\n",
    "plt.show()"
   ]
  },
  {
   "cell_type": "markdown",
   "metadata": {},
   "source": [
    "## 3. Train (again) and evaluate the model\n",
    "\n",
    "- To this end, you have found the \"best\" hyper-parameters. \n",
    "- Now, fix the hyper-parameters and train the network on the entire training set (all the 50K training samples)\n",
    "- Evaluate your model on the test set."
   ]
  },
  {
   "cell_type": "markdown",
   "metadata": {},
   "source": [
    "### 3.1. Train the model on the entire training set\n",
    "\n",
    "Why? Previously, you used 40K samples for training; you wasted 10K samples for the sake of hyper-parameter tuning. Now you already know the hyper-parameters, so why not using all the 50K samples for training?"
   ]
  },
  {
   "cell_type": "code",
   "execution_count": 28,
   "metadata": {},
   "outputs": [
    {
     "name": "stdout",
     "output_type": "stream",
     "text": [
      "_________________________________________________________________\n",
      "Layer (type)                 Output Shape              Param #   \n",
      "=================================================================\n",
      "conv2d_32 (Conv2D)           (None, 32, 32, 32)        896       \n",
      "_________________________________________________________________\n",
      "batch_normalization_29 (Batc (None, 32, 32, 32)        128       \n",
      "_________________________________________________________________\n",
      "activation_29 (Activation)   (None, 32, 32, 32)        0         \n",
      "_________________________________________________________________\n",
      "max_pooling2d_30 (MaxPooling (None, 16, 16, 32)        0         \n",
      "_________________________________________________________________\n",
      "conv2d_33 (Conv2D)           (None, 16, 16, 64)        18496     \n",
      "_________________________________________________________________\n",
      "batch_normalization_30 (Batc (None, 16, 16, 64)        256       \n",
      "_________________________________________________________________\n",
      "activation_30 (Activation)   (None, 16, 16, 64)        0         \n",
      "_________________________________________________________________\n",
      "max_pooling2d_31 (MaxPooling (None, 8, 8, 64)          0         \n",
      "_________________________________________________________________\n",
      "conv2d_34 (Conv2D)           (None, 8, 8, 128)         73856     \n",
      "_________________________________________________________________\n",
      "batch_normalization_31 (Batc (None, 8, 8, 128)         512       \n",
      "_________________________________________________________________\n",
      "activation_31 (Activation)   (None, 8, 8, 128)         0         \n",
      "_________________________________________________________________\n",
      "max_pooling2d_32 (MaxPooling (None, 4, 4, 128)         0         \n",
      "_________________________________________________________________\n",
      "flatten_10 (Flatten)         (None, 2048)              0         \n",
      "_________________________________________________________________\n",
      "dropout_9 (Dropout)          (None, 2048)              0         \n",
      "_________________________________________________________________\n",
      "dense_16 (Dense)             (None, 512)               1049088   \n",
      "_________________________________________________________________\n",
      "batch_normalization_32 (Batc (None, 512)               2048      \n",
      "_________________________________________________________________\n",
      "activation_32 (Activation)   (None, 512)               0         \n",
      "_________________________________________________________________\n",
      "dense_17 (Dense)             (None, 10)                5130      \n",
      "=================================================================\n",
      "Total params: 1,150,410\n",
      "Trainable params: 1,148,938\n",
      "Non-trainable params: 1,472\n",
      "_________________________________________________________________\n"
     ]
    }
   ],
   "source": [
    "from keras.layers import Conv2D, MaxPooling2D, Flatten, Dense, Activation\n",
    "from keras.models import Sequential\n",
    "from keras import layers\n",
    "model1 = Sequential()\n",
    "model1.add(layers.Conv2D(32, (3, 3), padding='same', input_shape=(32, 32, 3)))\n",
    "model1.add(layers.BatchNormalization())\n",
    "model1.add(Activation('relu'))\n",
    "model1.add(layers.MaxPooling2D((2, 2)))\n",
    "model1.add(layers.Conv2D(64, (3, 3), padding='same'))\n",
    "model1.add(layers.BatchNormalization())\n",
    "model1.add(Activation('relu'))\n",
    "model1.add(layers.MaxPooling2D((2, 2)))\n",
    "model1.add(layers.Conv2D(128, (3, 3), padding='same'))\n",
    "model1.add(layers.BatchNormalization())\n",
    "model1.add(Activation('relu'))\n",
    "model1.add(layers.MaxPooling2D((2, 2)))\n",
    "model1.add(layers.Flatten())\n",
    "model1.add(layers.Dropout(0.5))\n",
    "model1.add(layers.Dense(512))\n",
    "model1.add(layers.BatchNormalization())\n",
    "model1.add(Activation('relu'))\n",
    "model1.add(layers.Dense(10, activation='softmax'))\n",
    "\n",
    "model1.summary()"
   ]
  },
  {
   "cell_type": "code",
   "execution_count": 29,
   "metadata": {},
   "outputs": [],
   "source": [
    "from keras import optimizers\n",
    "\n",
    "learning_rate = 3E-4 # to be tuned!\n",
    "model1.compile(loss='categorical_crossentropy', optimizer=optimizers.RMSprop(lr=learning_rate), metrics=['acc'])"
   ]
  },
  {
   "cell_type": "code",
   "execution_count": 30,
   "metadata": {},
   "outputs": [
    {
     "name": "stdout",
     "output_type": "stream",
     "text": [
      "Epoch 1/50\n",
      "50000/50000 [==============================] - 132s 3ms/step - loss: 1.4575 - acc: 0.4771\n",
      "Epoch 2/50\n",
      "50000/50000 [==============================] - 129s 3ms/step - loss: 1.1073 - acc: 0.6070\n",
      "Epoch 3/50\n",
      "50000/50000 [==============================] - 129s 3ms/step - loss: 0.9777 - acc: 0.6540\n",
      "Epoch 4/50\n",
      "50000/50000 [==============================] - 127s 3ms/step - loss: 0.8880 - acc: 0.6880\n",
      "Epoch 5/50\n",
      "50000/50000 [==============================] - 118s 2ms/step - loss: 0.8225 - acc: 0.7113\n",
      "Epoch 6/50\n",
      "50000/50000 [==============================] - 119s 2ms/step - loss: 0.7734 - acc: 0.7268\n",
      "Epoch 7/50\n",
      "50000/50000 [==============================] - 129s 3ms/step - loss: 0.7264 - acc: 0.7449\n",
      "Epoch 8/50\n",
      "50000/50000 [==============================] - 131s 3ms/step - loss: 0.6924 - acc: 0.7574\n",
      "Epoch 9/50\n",
      "50000/50000 [==============================] - 131s 3ms/step - loss: 0.6564 - acc: 0.7680\n",
      "Epoch 10/50\n",
      "50000/50000 [==============================] - 130s 3ms/step - loss: 0.6276 - acc: 0.7795\n",
      "Epoch 11/50\n",
      "50000/50000 [==============================] - 130s 3ms/step - loss: 0.5939 - acc: 0.7916\n",
      "Epoch 12/50\n",
      "50000/50000 [==============================] - 131s 3ms/step - loss: 0.5707 - acc: 0.7979\n",
      "Epoch 13/50\n",
      "50000/50000 [==============================] - 130s 3ms/step - loss: 0.5450 - acc: 0.8064\n",
      "Epoch 14/50\n",
      "50000/50000 [==============================] - 130s 3ms/step - loss: 0.5189 - acc: 0.8189\n",
      "Epoch 15/50\n",
      "50000/50000 [==============================] - 130s 3ms/step - loss: 0.5037 - acc: 0.8240\n",
      "Epoch 16/50\n",
      "50000/50000 [==============================] - 131s 3ms/step - loss: 0.4829 - acc: 0.8293\n",
      "Epoch 17/50\n",
      "50000/50000 [==============================] - 131s 3ms/step - loss: 0.4656 - acc: 0.8364\n",
      "Epoch 18/50\n",
      "50000/50000 [==============================] - 131s 3ms/step - loss: 0.4479 - acc: 0.8422\n",
      "Epoch 19/50\n",
      "50000/50000 [==============================] - 131s 3ms/step - loss: 0.4309 - acc: 0.8477\n",
      "Epoch 20/50\n",
      "50000/50000 [==============================] - 130s 3ms/step - loss: 0.4112 - acc: 0.8557\n",
      "Epoch 21/50\n",
      "50000/50000 [==============================] - 131s 3ms/step - loss: 0.3950 - acc: 0.8595\n",
      "Epoch 22/50\n",
      "50000/50000 [==============================] - 131s 3ms/step - loss: 0.3857 - acc: 0.8655\n",
      "Epoch 23/50\n",
      "50000/50000 [==============================] - 131s 3ms/step - loss: 0.3663 - acc: 0.8716\n",
      "Epoch 24/50\n",
      "50000/50000 [==============================] - 131s 3ms/step - loss: 0.3550 - acc: 0.8746\n",
      "Epoch 25/50\n",
      "50000/50000 [==============================] - 131s 3ms/step - loss: 0.3447 - acc: 0.8797\n",
      "Epoch 26/50\n",
      "50000/50000 [==============================] - 131s 3ms/step - loss: 0.3318 - acc: 0.8845\n",
      "Epoch 27/50\n",
      "50000/50000 [==============================] - 131s 3ms/step - loss: 0.3163 - acc: 0.8890\n",
      "Epoch 28/50\n",
      "50000/50000 [==============================] - 131s 3ms/step - loss: 0.3040 - acc: 0.8943\n",
      "Epoch 29/50\n",
      "50000/50000 [==============================] - 132s 3ms/step - loss: 0.2946 - acc: 0.8971\n",
      "Epoch 30/50\n",
      "50000/50000 [==============================] - 132s 3ms/step - loss: 0.2850 - acc: 0.9015\n",
      "Epoch 31/50\n",
      "50000/50000 [==============================] - 130s 3ms/step - loss: 0.2712 - acc: 0.9059\n",
      "Epoch 32/50\n",
      "50000/50000 [==============================] - 130s 3ms/step - loss: 0.2618 - acc: 0.9080\n",
      "Epoch 33/50\n",
      "50000/50000 [==============================] - 130s 3ms/step - loss: 0.2536 - acc: 0.9108\n",
      "Epoch 34/50\n",
      "50000/50000 [==============================] - 130s 3ms/step - loss: 0.2502 - acc: 0.9133\n",
      "Epoch 35/50\n",
      "50000/50000 [==============================] - 130s 3ms/step - loss: 0.2386 - acc: 0.9182\n",
      "Epoch 36/50\n",
      "50000/50000 [==============================] - 119s 2ms/step - loss: 0.2310 - acc: 0.9193\n",
      "Epoch 37/50\n",
      "50000/50000 [==============================] - 123s 2ms/step - loss: 0.2251 - acc: 0.9211\n",
      "Epoch 38/50\n",
      "50000/50000 [==============================] - 130s 3ms/step - loss: 0.2164 - acc: 0.9245\n",
      "Epoch 39/50\n",
      "50000/50000 [==============================] - 130s 3ms/step - loss: 0.2133 - acc: 0.9263\n",
      "Epoch 40/50\n",
      "50000/50000 [==============================] - 130s 3ms/step - loss: 0.2024 - acc: 0.9292\n",
      "Epoch 41/50\n",
      "50000/50000 [==============================] - 130s 3ms/step - loss: 0.1999 - acc: 0.9303\n",
      "Epoch 42/50\n",
      "50000/50000 [==============================] - 130s 3ms/step - loss: 0.1955 - acc: 0.9320\n",
      "Epoch 43/50\n",
      "50000/50000 [==============================] - 130s 3ms/step - loss: 0.1895 - acc: 0.9334\n",
      "Epoch 44/50\n",
      "50000/50000 [==============================] - 130s 3ms/step - loss: 0.1812 - acc: 0.9374\n",
      "Epoch 45/50\n",
      "50000/50000 [==============================] - 132s 3ms/step - loss: 0.1753 - acc: 0.9394\n",
      "Epoch 46/50\n",
      "50000/50000 [==============================] - 132s 3ms/step - loss: 0.1729 - acc: 0.9402\n",
      "Epoch 47/50\n",
      "50000/50000 [==============================] - 130s 3ms/step - loss: 0.1651 - acc: 0.9431\n",
      "Epoch 48/50\n",
      "50000/50000 [==============================] - 130s 3ms/step - loss: 0.1638 - acc: 0.9433\n",
      "Epoch 49/50\n",
      "50000/50000 [==============================] - 190s 4ms/step - loss: 0.1593 - acc: 0.9452\n",
      "Epoch 50/50\n",
      "50000/50000 [==============================] - 132s 3ms/step - loss: 0.1594 - acc: 0.9447\n"
     ]
    }
   ],
   "source": [
    "history = model1.fit(x_train, y_train_vec, batch_size=128, epochs=50)"
   ]
  },
  {
   "cell_type": "markdown",
   "metadata": {},
   "source": [
    "### 3.2. Evaluate the model on the test set\n",
    "\n",
    "Do NOT used the test set until now. Make sure that your model parameters and hyper-parameters are independent of the test set."
   ]
  },
  {
   "cell_type": "code",
   "execution_count": 32,
   "metadata": {},
   "outputs": [
    {
     "name": "stdout",
     "output_type": "stream",
     "text": [
      "10000/10000 [==============================] - 5s 471us/step\n",
      "loss = 0.6779227051258088\n",
      "accuracy = 0.8011\n"
     ]
    }
   ],
   "source": [
    "loss_and_acc = model1.evaluate(x_test, y_test_vec)\n",
    "print('loss = ' + str(loss_and_acc[0]))\n",
    "print('accuracy = ' + str(loss_and_acc[1]))"
   ]
  },
  {
   "cell_type": "code",
   "execution_count": null,
   "metadata": {},
   "outputs": [],
   "source": []
  }
 ],
 "metadata": {
  "kernelspec": {
   "display_name": "Python 3",
   "language": "python",
   "name": "python3"
  },
  "language_info": {
   "codemirror_mode": {
    "name": "ipython",
    "version": 3
   },
   "file_extension": ".py",
   "mimetype": "text/x-python",
   "name": "python",
   "nbconvert_exporter": "python",
   "pygments_lexer": "ipython3",
   "version": "3.6.8"
  }
 },
 "nbformat": 4,
 "nbformat_minor": 2
}
